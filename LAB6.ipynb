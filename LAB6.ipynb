{
  "nbformat": 4,
  "nbformat_minor": 0,
  "metadata": {
    "colab": {
      "provenance": [],
      "authorship_tag": "ABX9TyOs3rGpPf2YBimQneG9+p5B",
      "include_colab_link": true
    },
    "kernelspec": {
      "name": "python3",
      "display_name": "Python 3"
    },
    "language_info": {
      "name": "python"
    }
  },
  "cells": [
    {
      "cell_type": "markdown",
      "metadata": {
        "id": "view-in-github",
        "colab_type": "text"
      },
      "source": [
        "<a href=\"https://colab.research.google.com/github/spandana1320/B19_1320/blob/main/LAB6.ipynb\" target=\"_parent\"><img src=\"https://colab.research.google.com/assets/colab-badge.svg\" alt=\"Open In Colab\"/></a>"
      ]
    },
    {
      "cell_type": "code",
      "execution_count": 11,
      "metadata": {
        "colab": {
          "base_uri": "https://localhost:8080/"
        },
        "id": "orwYUuh8DRc3",
        "outputId": "e7a5b7c2-dda6-4ba2-c405-1cf1fb907e2e"
      },
      "outputs": [
        {
          "output_type": "stream",
          "name": "stdout",
          "text": [
            "original dataframe\n",
            "    name   age  marks\n",
            "0   ravi  25.0   85.0\n",
            "1   neha   NaN   90.0\n",
            "2  kiran  30.0    NaN\n",
            "3   sita  28.0   92.0\n",
            "check for missing values\n",
            "    name    age  marks\n",
            "0  False  False  False\n",
            "1  False   True  False\n",
            "2  False  False   True\n",
            "3  False  False  False\n"
          ]
        }
      ],
      "source": [
        "#data cleaning\n",
        "#missing values\n",
        "import numpy as np\n",
        "import pandas as pd\n",
        "data={'name':['ravi','neha','kiran','sita'],'age':[25,np.nan,30,28],'marks':[85,90,np.nan,92]}\n",
        "df=pd.DataFrame(data)\n",
        "print(\"original dataframe\")\n",
        "print(df)\n",
        "#detect missing values\n",
        "print(\"check for missing values\")\n",
        "print(df.isnull())\n"
      ]
    },
    {
      "cell_type": "code",
      "source": [
        "data={'name':['ravi','neha','kiran','sita'],'age':[25,np.nan,30,28],'marks':[85,90,np.nan,92]}\n",
        "df=pd.DataFrame(data)\n",
        "print(\"original dataframe\")\n",
        "print(df)\n",
        "#dropping missing values\n",
        "print(\"dropping missing values\")\n",
        "df_dropped=df.dropna()\n",
        "print(df_dropped)\n",
        "#or\n",
        "print(df.dropna())\n"
      ],
      "metadata": {
        "colab": {
          "base_uri": "https://localhost:8080/"
        },
        "id": "CTwayYUEIh33",
        "outputId": "fb926f3a-5a0f-4d99-b359-39d4e35ba575"
      },
      "execution_count": 12,
      "outputs": [
        {
          "output_type": "stream",
          "name": "stdout",
          "text": [
            "original dataframe\n",
            "    name   age  marks\n",
            "0   ravi  25.0   85.0\n",
            "1   neha   NaN   90.0\n",
            "2  kiran  30.0    NaN\n",
            "3   sita  28.0   92.0\n",
            "dropping missing values\n",
            "   name   age  marks\n",
            "0  ravi  25.0   85.0\n",
            "3  sita  28.0   92.0\n",
            "   name   age  marks\n",
            "0  ravi  25.0   85.0\n",
            "3  sita  28.0   92.0\n"
          ]
        }
      ]
    },
    {
      "cell_type": "code",
      "source": [
        "data={'name':['ravi','neha','kiran','sita'],'age':[25,np.nan,30,28],'marks':[85,90,np.nan,92]}\n",
        "df=pd.DataFrame(data)\n",
        "print(\"original dataframe\")\n",
        "print(df)\n",
        "#filling missing values with zero\n",
        "df_filled=df.fillna(0)\n",
        "print(df_filled)\n",
        "\n",
        "#or\n",
        "print(df.fillna(0))"
      ],
      "metadata": {
        "colab": {
          "base_uri": "https://localhost:8080/"
        },
        "id": "ly30OMwkIrx_",
        "outputId": "36691966-460d-4784-f9de-b636328815d1"
      },
      "execution_count": 13,
      "outputs": [
        {
          "output_type": "stream",
          "name": "stdout",
          "text": [
            "original dataframe\n",
            "    name   age  marks\n",
            "0   ravi  25.0   85.0\n",
            "1   neha   NaN   90.0\n",
            "2  kiran  30.0    NaN\n",
            "3   sita  28.0   92.0\n",
            "    name   age  marks\n",
            "0   ravi  25.0   85.0\n",
            "1   neha   0.0   90.0\n",
            "2  kiran  30.0    0.0\n",
            "3   sita  28.0   92.0\n",
            "    name   age  marks\n",
            "0   ravi  25.0   85.0\n",
            "1   neha   0.0   90.0\n",
            "2  kiran  30.0    0.0\n",
            "3   sita  28.0   92.0\n"
          ]
        }
      ]
    },
    {
      "cell_type": "code",
      "source": [
        "data={'name':['ravi','neha','kiran','sita'],'age':[25,np.nan,30,28],'marks':[85,90,np.nan,92]}\n",
        "df=pd.DataFrame(data)\n",
        "print(\"original dataframe\")\n",
        "print(df)\n",
        "#filling missing with mean\n",
        "df['age']=df['age'].fillna(df['age'].mean())\n",
        "print(df['age'])\n",
        "df['marks']=df['marks'].fillna(df['marks'].mean())\n",
        "print(df['marks'])"
      ],
      "metadata": {
        "colab": {
          "base_uri": "https://localhost:8080/"
        },
        "id": "zBkbw1gaHIZ_",
        "outputId": "cf41c487-1334-4110-e75f-74631f6126c2"
      },
      "execution_count": 10,
      "outputs": [
        {
          "output_type": "stream",
          "name": "stdout",
          "text": [
            "0    25.000000\n",
            "1    27.666667\n",
            "2    30.000000\n",
            "3    28.000000\n",
            "Name: age, dtype: float64\n",
            "0    85.0\n",
            "1    90.0\n",
            "2    89.0\n",
            "3    92.0\n",
            "Name: marks, dtype: float64\n"
          ]
        }
      ]
    },
    {
      "cell_type": "code",
      "source": [
        "#removing duplicates\n",
        "data={'name':['ravi','neha','kiran','sita','ravi'],'age':[25,25,30,28,25],'marks':[85,90,90,92,90]}\n",
        "df=pd.DataFrame(data)\n",
        "print(\"original dataframe\")\n",
        "print(df)\n",
        "#removing duplicates\n",
        "print(\"after removing duplicates\")\n",
        "df_no_duplicates=df.drop_duplicates('age')\n",
        "print(df_no_duplicates)\n",
        "print(\"after removing duplicates\")\n",
        "df_no_duplicates=df.drop_duplicates('name')\n",
        "print(df_no_duplicates)\n",
        "print(\"after removing duplicates\")\n",
        "df_no_duplicates=df.drop_duplicates('marks')\n",
        "print(df_no_duplicates)"
      ],
      "metadata": {
        "colab": {
          "base_uri": "https://localhost:8080/"
        },
        "id": "ztC7PvDjIA4A",
        "outputId": "b60fcbcc-8775-42e4-f808-54d44daff7a2"
      },
      "execution_count": 20,
      "outputs": [
        {
          "output_type": "stream",
          "name": "stdout",
          "text": [
            "original dataframe\n",
            "    name  age  marks\n",
            "0   ravi   25     85\n",
            "1   neha   25     90\n",
            "2  kiran   30     90\n",
            "3   sita   28     92\n",
            "4   ravi   25     90\n",
            "after removing duplicates\n",
            "    name  age  marks\n",
            "0   ravi   25     85\n",
            "2  kiran   30     90\n",
            "3   sita   28     92\n",
            "after removing duplicates\n",
            "    name  age  marks\n",
            "0   ravi   25     85\n",
            "1   neha   25     90\n",
            "2  kiran   30     90\n",
            "3   sita   28     92\n",
            "after removing duplicates\n",
            "   name  age  marks\n",
            "0  ravi   25     85\n",
            "1  neha   25     90\n",
            "3  sita   28     92\n"
          ]
        }
      ]
    },
    {
      "cell_type": "code",
      "source": [
        "#changing data types\n",
        "data={'name':['ravi','neha','kiran','sita'],'age':['25','25','30','28'],'marks':['85','90','90','92']}\n",
        "df=pd.DataFrame(data)\n",
        "print(df.dtypes)\n",
        "\n",
        "#converting into numeric\n",
        "df['age']=pd.to_numeric(df['age'])\n",
        "df['marks']=pd.to_numeric(df['marks'])\n",
        "print(df.dtypes)\n",
        "\n",
        "#converting into float\n",
        "df['age']=df['age'].astype(float)\n",
        "df['marks']=df['marks'].astype(float)\n",
        "print(df.dtypes)"
      ],
      "metadata": {
        "colab": {
          "base_uri": "https://localhost:8080/"
        },
        "id": "gHmTc48cKeHT",
        "outputId": "4c3a8ed1-cd8e-4d51-b2f5-e34930981cba"
      },
      "execution_count": 24,
      "outputs": [
        {
          "output_type": "stream",
          "name": "stdout",
          "text": [
            "name     object\n",
            "age      object\n",
            "marks    object\n",
            "dtype: object\n",
            "name     object\n",
            "age       int64\n",
            "marks     int64\n",
            "dtype: object\n",
            "name      object\n",
            "age      float64\n",
            "marks    float64\n",
            "dtype: object\n"
          ]
        }
      ]
    },
    {
      "cell_type": "code",
      "source": [
        "#changing data types\n",
        "data={'name':['ravi','neha','kiran','sita'],'age':[25,30,40,50],'marks':[85,92,86,99]}\n",
        "df=pd.DataFrame(data)\n",
        "print(df.dtypes)\n",
        "#converting into strings\n",
        "df['age']=df['age'].astype(str)\n",
        "df['marks']=df['marks'].astype(str)\n",
        "print(df.dtypes)"
      ],
      "metadata": {
        "colab": {
          "base_uri": "https://localhost:8080/"
        },
        "id": "ZpupB0KIMb5b",
        "outputId": "6b6907b0-02b2-44a5-e6e7-8245ed552668"
      },
      "execution_count": 25,
      "outputs": [
        {
          "output_type": "stream",
          "name": "stdout",
          "text": [
            "name     object\n",
            "age       int64\n",
            "marks    object\n",
            "dtype: object\n",
            "name     object\n",
            "age      object\n",
            "marks    object\n",
            "dtype: object\n"
          ]
        }
      ]
    },
    {
      "cell_type": "code",
      "source": [
        "#applying functions\n",
        "df['marks'] = pd.to_numeric(df['marks'])\n",
        "df['marks']=df['marks'].apply(lambda x:x*2)\n",
        "print(df)\n",
        "df['marks']=df['marks'].apply(lambda x:x+5)\n",
        "print(df)"
      ],
      "metadata": {
        "colab": {
          "base_uri": "https://localhost:8080/"
        },
        "id": "FkUY3vPmNJKj",
        "outputId": "931e2c90-88bc-4afc-b920-ad6c91c2d24a"
      },
      "execution_count": 31,
      "outputs": [
        {
          "output_type": "stream",
          "name": "stdout",
          "text": [
            "    name age      marks\n",
            "0   ravi  25  171717170\n",
            "1   neha  30  181818180\n",
            "2  kiran  40  181818180\n",
            "3   sita  50  185858584\n",
            "    name age      marks\n",
            "0   ravi  25  171717175\n",
            "1   neha  30  181818185\n",
            "2  kiran  40  181818185\n",
            "3   sita  50  185858589\n"
          ]
        }
      ]
    },
    {
      "cell_type": "code",
      "source": [],
      "metadata": {
        "id": "MbYRePEwQIOb"
      },
      "execution_count": null,
      "outputs": []
    },
    {
      "cell_type": "code",
      "source": [
        "#normalization (scaling between 0 and 1)\n",
        "df['age'] = pd.to_numeric(df['age'])\n",
        "df['age']=(df['age']-df['age'].min())/(df['age'].max()-df['age'].min())\n",
        "print(df)"
      ],
      "metadata": {
        "colab": {
          "base_uri": "https://localhost:8080/"
        },
        "id": "2MJy-K8FO3dH",
        "outputId": "7d6331eb-2d4e-40f1-e9ec-9419f9117cbc"
      },
      "execution_count": 40,
      "outputs": [
        {
          "output_type": "stream",
          "name": "stdout",
          "text": [
            "    name  age     marks\n",
            "0   ravi  0.0  0.000000\n",
            "1   neha  0.2  0.714286\n",
            "2  kiran  0.6  0.714286\n",
            "3   sita  1.0  1.000000\n"
          ]
        }
      ]
    },
    {
      "cell_type": "code",
      "source": [
        "data={'name':['ravi','neha','kiran','sita'],'age':[25,30,40,50],'marks':[85,92,86,99]}\n",
        "print(df['age'].min())\n",
        "print(df['age'].max())"
      ],
      "metadata": {
        "colab": {
          "base_uri": "https://localhost:8080/"
        },
        "id": "S0tHHs2ZPjkj",
        "outputId": "43fe036e-352a-456d-a5eb-8eec611e21e5"
      },
      "execution_count": 41,
      "outputs": [
        {
          "output_type": "stream",
          "name": "stdout",
          "text": [
            "0.0\n",
            "1.0\n"
          ]
        }
      ]
    },
    {
      "cell_type": "code",
      "source": [
        "#simple merge\n",
        "import pandas as pd\n",
        "# Student Data\n",
        "students = pd.DataFrame({\n",
        "'Student_ID': [101, 102, 103, 104],\n",
        "'Name': ['Ravi', 'Neha', 'Kiran', 'Sita']\n",
        "})\n",
        "# Marks Data\n",
        "marks = pd.DataFrame({\n",
        "'Student_ID': [101, 102, 103, 105],\n",
        "'Marks': [85, 90, 78, 88]})\n",
        "# Merge on Student_ID\n",
        "merged_df = pd.merge(students, marks, on='Student_ID')\n",
        "print(\"Merged DataFrame:\")\n",
        "print(merged_df)"
      ],
      "metadata": {
        "colab": {
          "base_uri": "https://localhost:8080/"
        },
        "id": "d2_bfZMPPlxp",
        "outputId": "d3186609-6373-4be7-ed42-8bd2c531e9e3"
      },
      "execution_count": 42,
      "outputs": [
        {
          "output_type": "stream",
          "name": "stdout",
          "text": [
            "Merged DataFrame:\n",
            "   Student_ID   Name  Marks\n",
            "0         101   Ravi     85\n",
            "1         102   Neha     90\n",
            "2         103  Kiran     78\n"
          ]
        }
      ]
    },
    {
      "cell_type": "code",
      "source": [
        "# INNER JOIN (default)\n",
        "inner = pd.merge(students, marks, on='Student_ID', how='inner')\n",
        "print(\"Inner Join:\\n\", inner)\n",
        "# LEFT JOIN\n",
        "left = pd.merge(students, marks, on='Student_ID', how='left')\n",
        "print(\"\\nLeft Join:\\n\", left)\n",
        "# RIGHT JOIN\n",
        "right = pd.merge(students, marks, on='Student_ID', how='right')\n",
        "print(\"\\nRight Join:\\n\", right)\n",
        "# OUTER JOIN\n",
        "outer = pd.merge(students, marks, on='Student_ID', how='outer')\n",
        "print(\"\\nOuter Join:\\n\", outer)"
      ],
      "metadata": {
        "colab": {
          "base_uri": "https://localhost:8080/"
        },
        "id": "nCJgIT8USElb",
        "outputId": "9bb8cf49-6229-4618-a942-28e36e05eed2"
      },
      "execution_count": 43,
      "outputs": [
        {
          "output_type": "stream",
          "name": "stdout",
          "text": [
            "Inner Join:\n",
            "    Student_ID   Name  Marks\n",
            "0         101   Ravi     85\n",
            "1         102   Neha     90\n",
            "2         103  Kiran     78\n",
            "\n",
            "Left Join:\n",
            "    Student_ID   Name  Marks\n",
            "0         101   Ravi   85.0\n",
            "1         102   Neha   90.0\n",
            "2         103  Kiran   78.0\n",
            "3         104   Sita    NaN\n",
            "\n",
            "Right Join:\n",
            "    Student_ID   Name  Marks\n",
            "0         101   Ravi     85\n",
            "1         102   Neha     90\n",
            "2         103  Kiran     78\n",
            "3         105    NaN     88\n",
            "\n",
            "Outer Join:\n",
            "    Student_ID   Name  Marks\n",
            "0         101   Ravi   85.0\n",
            "1         102   Neha   90.0\n",
            "2         103  Kiran   78.0\n",
            "3         104   Sita    NaN\n",
            "4         105    NaN   88.0\n"
          ]
        }
      ]
    },
    {
      "cell_type": "code",
      "source": [
        "#using join()\n",
        "# Student Details (index = Student_ID)\n",
        "students = pd.DataFrame({'Name': ['Ravi', 'Neha', 'Kiran', 'Sita']}, index=[101, 102, 103, 104])\n",
        "# Marks Data (index = Student_ID)\n",
        "marks = pd.DataFrame({'Marks': [85, 90, 78, 88]}, index=[101, 102, 103, 105])\n",
        "#Join based on index\n",
        "joined_df = students.join(marks, how='outer')\n",
        "print(\"Joined DataFrame:\")\n",
        "print(joined_df)"
      ],
      "metadata": {
        "colab": {
          "base_uri": "https://localhost:8080/"
        },
        "id": "jOqx_VPgVAeo",
        "outputId": "325e2e20-5408-46c5-9bb5-01ae609be8ff"
      },
      "execution_count": 45,
      "outputs": [
        {
          "output_type": "stream",
          "name": "stdout",
          "text": [
            "Joined DataFrame:\n",
            "      Name  Marks\n",
            "101   Ravi   85.0\n",
            "102   Neha   90.0\n",
            "103  Kiran   78.0\n",
            "104   Sita    NaN\n",
            "105    NaN   88.0\n"
          ]
        }
      ]
    }
  ]
}