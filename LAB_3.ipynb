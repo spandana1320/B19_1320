{
  "nbformat": 4,
  "nbformat_minor": 0,
  "metadata": {
    "colab": {
      "provenance": [],
      "authorship_tag": "ABX9TyOWu7z7dq5uYG4tgupxrjSe",
      "include_colab_link": true
    },
    "kernelspec": {
      "name": "python3",
      "display_name": "Python 3"
    },
    "language_info": {
      "name": "python"
    }
  },
  "cells": [
    {
      "cell_type": "markdown",
      "metadata": {
        "id": "view-in-github",
        "colab_type": "text"
      },
      "source": [
        "<a href=\"https://colab.research.google.com/github/spandana1320/B19_1320/blob/main/LAB_3.ipynb\" target=\"_parent\"><img src=\"https://colab.research.google.com/assets/colab-badge.svg\" alt=\"Open In Colab\"/></a>"
      ]
    },
    {
      "cell_type": "code",
      "source": [
        "fp=open(\"example.txt\",'w')\n",
        "fp.write(\"hello ! im spandana\\n\")\n",
        "fp.write(\"this is file hanlding in python\\n\")\n",
        "fp.write(\"python\\n\")\n",
        "fp.close()"
      ],
      "metadata": {
        "id": "S71N1QUu6_fT"
      },
      "execution_count": 25,
      "outputs": []
    },
    {
      "cell_type": "code",
      "source": [
        "fp=open(\"example.txt\",'r')\n",
        "information=fp.read()\n",
        "print(\"information: \",information)\n",
        "fp.close()"
      ],
      "metadata": {
        "colab": {
          "base_uri": "https://localhost:8080/"
        },
        "id": "wppYH-ZA9D98",
        "outputId": "8d5721eb-8f2d-4066-a6fd-359dbb29e952"
      },
      "execution_count": 26,
      "outputs": [
        {
          "output_type": "stream",
          "name": "stdout",
          "text": [
            "information:  hello ! im spandana\n",
            "this is file hanlding in python\n",
            "python\n",
            "\n"
          ]
        }
      ]
    },
    {
      "cell_type": "code",
      "source": [
        "fp=open(\"example.txt\",'r')\n",
        "line1=fp.readline()\n",
        "print(\"line1: \",line1)\n",
        "line2=fp.readline()\n",
        "print(\"line2: \",line2)\n",
        "line3=fp.readline()\n",
        "print(\"line3: \",line3)\n",
        "fp.close()"
      ],
      "metadata": {
        "colab": {
          "base_uri": "https://localhost:8080/"
        },
        "id": "5gkytUZC8L9S",
        "outputId": "13962c83-ef7f-43c3-9603-94d3b49aa847"
      },
      "execution_count": 27,
      "outputs": [
        {
          "output_type": "stream",
          "name": "stdout",
          "text": [
            "line1:  hello ! im spandana\n",
            "\n",
            "line2:  this is file hanlding in python\n",
            "\n",
            "line3:  python\n",
            "\n"
          ]
        }
      ]
    },
    {
      "cell_type": "code",
      "source": [
        "fp=open(\"example.txt\",'r')\n",
        "lines=fp.readlines()\n",
        "print(\"lines: \",lines)\n",
        "fp.close()"
      ],
      "metadata": {
        "colab": {
          "base_uri": "https://localhost:8080/"
        },
        "id": "DA-VilBX845D",
        "outputId": "7d4dd445-631e-46b0-f4ab-c8080695143b"
      },
      "execution_count": 28,
      "outputs": [
        {
          "output_type": "stream",
          "name": "stdout",
          "text": [
            "lines:  ['hello ! im spandana\\n', 'this is file hanlding in python\\n', 'python\\n']\n"
          ]
        }
      ]
    },
    {
      "cell_type": "code",
      "source": [
        "fp=open(\"example.txt\",'a')\n",
        "fp.write(\"appending new data...\\n\")\n",
        "fp.close()"
      ],
      "metadata": {
        "id": "4KSAqvCA-6gT"
      },
      "execution_count": 29,
      "outputs": []
    },
    {
      "cell_type": "code",
      "source": [
        "fp=open(\"example.txt\",'r')\n",
        "information=fp.read()\n",
        "print(\"information: \",information)\n",
        "fp.close()"
      ],
      "metadata": {
        "colab": {
          "base_uri": "https://localhost:8080/"
        },
        "id": "KQHz0IWS_2dz",
        "outputId": "c35b25ab-ea56-443c-f83b-293c23af6d36"
      },
      "execution_count": 30,
      "outputs": [
        {
          "output_type": "stream",
          "name": "stdout",
          "text": [
            "information:  hello ! im spandana\n",
            "this is file hanlding in python\n",
            "python\n",
            "appending new data...\n",
            "\n"
          ]
        }
      ]
    },
    {
      "cell_type": "code",
      "source": [
        "with open(\"example.txt\",'r') as fp:\n",
        "  fp=fp.read()\n",
        "  print(fp)"
      ],
      "metadata": {
        "colab": {
          "base_uri": "https://localhost:8080/"
        },
        "id": "jW2VcylsAUWj",
        "outputId": "c3115d16-f6fc-4433-dcfa-057f50e72bb4"
      },
      "execution_count": 31,
      "outputs": [
        {
          "output_type": "stream",
          "name": "stdout",
          "text": [
            "hello ! im spandana\n",
            "this is file hanlding in python\n",
            "python\n",
            "appending new data...\n",
            "\n"
          ]
        }
      ]
    },
    {
      "cell_type": "code",
      "source": [
        "with open('data.csv','w',newline='') as fp:\n",
        "  import csv\n",
        "  writer=csv.writer(fp)\n",
        "  writer.writerow([\"name\",\"marks\"])\n",
        "  writer.writerow([\"akki\",\"100\"])\n",
        "  writer.writerow([\"spandy\",\"99\"])\n",
        "  writer.writerow([\"praneeth\",\"98\"])\n",
        "  writer.writerow([\"manmith\",\"96\"])\n",
        "\n",
        "\n",
        "\n",
        "\n"
      ],
      "metadata": {
        "id": "mLNCSencBItG"
      },
      "execution_count": 33,
      "outputs": []
    },
    {
      "cell_type": "code",
      "source": [
        "with open(\"data.csv\",'r')as fp:\n",
        "  read=csv.reader(fp)\n",
        "  for row in read:\n",
        "    print(row)"
      ],
      "metadata": {
        "colab": {
          "base_uri": "https://localhost:8080/"
        },
        "id": "iDssy1dVCT0X",
        "outputId": "c5b8c144-b6c2-4072-925b-fc6d16b70374"
      },
      "execution_count": 37,
      "outputs": [
        {
          "output_type": "stream",
          "name": "stdout",
          "text": [
            "['name', 'age', 'course']\n",
            "['spandy', '19', 'CSE']\n",
            "['sony', '20', 'CSN']\n",
            "['harshit', '21', 'ECE']\n"
          ]
        }
      ]
    },
    {
      "cell_type": "code",
      "source": [
        "with open('student.csv','w',newline='') as fp:\n",
        "  import csv\n",
        "  wr=csv.writer(fp)\n",
        "  wr.writerows([[\"name\",\"age\",\"course\"],[\"spandy\",19,'CSE'],['sony',20,\"CSN\"],['harshit',21,\"ECE\"]])\n"
      ],
      "metadata": {
        "id": "FeJ2ElohC07D"
      },
      "execution_count": 36,
      "outputs": []
    },
    {
      "cell_type": "code",
      "source": [
        "import numpy as np\n",
        "a1=np.array([1,2,3,4])\n",
        "print(\"1D array:\",a1)\n",
        "a2=np.array([[1,2,3,4],[5,6,7,8]])\n",
        "print(\"2D array:\",a2)\n",
        "zeros_arr=np.zeros((3,3))\n",
        "print(\"zeros array:\",zeros_arr)\n",
        "ones_arr=np.ones((3,3))\n",
        "print(\"ones array:\",ones_arr)\n",
        "range_arr=np.arange(10)\n",
        "print(\"range array:\",range_arr)\n",
        "random_arr=np.random.random((3,3))\n",
        "print(\"random array:\",random_arr)"
      ],
      "metadata": {
        "colab": {
          "base_uri": "https://localhost:8080/"
        },
        "id": "s1ZXUqB9D_M3",
        "outputId": "afcd9534-62ac-4ada-f86b-8713d2d62c17"
      },
      "execution_count": 41,
      "outputs": [
        {
          "output_type": "stream",
          "name": "stdout",
          "text": [
            "1D array: [1 2 3 4]\n",
            "2D array: [[1 2 3 4]\n",
            " [5 6 7 8]]\n",
            "zeros array: [[0. 0. 0.]\n",
            " [0. 0. 0.]\n",
            " [0. 0. 0.]]\n",
            "ones array: [[1. 1. 1.]\n",
            " [1. 1. 1.]\n",
            " [1. 1. 1.]]\n",
            "range array: [0 1 2 3 4 5 6 7 8 9]\n",
            "random array: [[0.69396353 0.02292753 0.29150241]\n",
            " [0.60212855 0.49280293 0.02727074]\n",
            " [0.22925669 0.9741776  0.07205046]]\n"
          ]
        }
      ]
    },
    {
      "cell_type": "code",
      "source": [
        "#array attributes\n",
        "a=np.array([[1,2,3],[4,5,6]])\n",
        "print(\"shape of array : \",a.shape)\n",
        "print(\"size of array : \",a.size)\n",
        "print(\"data type of array : \",a.dtype)\n",
        "print(\"dimension : \",a.ndim)\n",
        "print(\"item size : \",a.itemsize)"
      ],
      "metadata": {
        "colab": {
          "base_uri": "https://localhost:8080/"
        },
        "id": "GF1EuvQQEeAL",
        "outputId": "1c28ba61-f896-4256-a161-b82035c83360"
      },
      "execution_count": 42,
      "outputs": [
        {
          "output_type": "stream",
          "name": "stdout",
          "text": [
            "shape of array :  (2, 3)\n",
            "size of array :  6\n",
            "data type of array :  int64\n",
            "dimension :  2\n",
            "item size :  8\n"
          ]
        }
      ]
    },
    {
      "cell_type": "code",
      "source": [
        "a=np.array([10,20,30,40,50])\n",
        "print(\"First element:\",a[0])\n",
        "print(\"Second element:\",a[1])\n",
        "print(\"Last element:\",a[-1])\n",
        "print(\"slice[1:4]\",a[1:4])\n",
        "print(\"slice[1:4]\",a[1:4:2])\n",
        "print(\"every second element\",a[::2])\n",
        "\n",
        "a2=np.array([[1,2,3],[4,5,6]])\n",
        "print(\"element at row 1 col2\",a2[1,2])\n",
        "print(\"element at row 0 col2\",a2[0,2])\n",
        "print(\"second row\",a2[1:])\n",
        "print(\"first col\",a2[:,0])\n",
        "print(\"first row\",a2[0,:])"
      ],
      "metadata": {
        "colab": {
          "base_uri": "https://localhost:8080/"
        },
        "id": "rdmeWtj8Km3Q",
        "outputId": "8a58f1fb-9c80-4db3-e6ab-b59c8c59e6b9"
      },
      "execution_count": 50,
      "outputs": [
        {
          "output_type": "stream",
          "name": "stdout",
          "text": [
            "First element: 10\n",
            "Second element: 20\n",
            "Last element: 50\n",
            "slice[1:4] [20 30 40]\n",
            "slice[1:4] [20 40]\n",
            "every second element [10 30 50]\n",
            "element at row 1 col2 6\n",
            "element at row 0 col2 3\n",
            "second row [[4 5 6]]\n",
            "first col [1 4]\n",
            "first row [1 2 3]\n"
          ]
        }
      ]
    },
    {
      "cell_type": "code",
      "source": [
        "a=np.array([1,2,3,4,5])\n",
        "b=np.array([6,7,8,9,10])\n",
        "print(\"a+b\",a+b)\n",
        "print(\"a-b\",a-b)\n",
        "print(\"a*b\",a*b)\n",
        "print(\"a/b\",a/b)\n",
        "print(\"a%b\",a%b)\n",
        "print(\"a**b\",a**b)\n",
        "\n"
      ],
      "metadata": {
        "colab": {
          "base_uri": "https://localhost:8080/"
        },
        "id": "IOwR7BrjPp5O",
        "outputId": "8ae09f46-6dfb-47c1-e04b-7c738c07486b"
      },
      "execution_count": 53,
      "outputs": [
        {
          "output_type": "stream",
          "name": "stdout",
          "text": [
            "a+b [ 7  9 11 13 15]\n",
            "a-b [-5 -5 -5 -5 -5]\n",
            "a*b [ 6 14 24 36 50]\n",
            "a/b [0.16666667 0.28571429 0.375      0.44444444 0.5       ]\n",
            "a%b [1 2 3 4 5]\n",
            "a**b [      1     128    6561  262144 9765625]\n"
          ]
        }
      ]
    },
    {
      "cell_type": "code",
      "source": [
        "#mathematical functions\n",
        "a=np.array([0,np.pi/2,np.pi])\n",
        "print(\"sine\",np.sin(a))\n",
        "print(\"cosine\",np.cos(a))\n",
        "print(\"sqaure root\",np.sqrt([1,4,9]))\n",
        "print(\"exponential\",np.exp([1,2]))\n"
      ],
      "metadata": {
        "colab": {
          "base_uri": "https://localhost:8080/"
        },
        "id": "k3ZZyCy8QMqK",
        "outputId": "41b49def-e1f9-4fcb-b2ad-f06d54f41c68"
      },
      "execution_count": 54,
      "outputs": [
        {
          "output_type": "stream",
          "name": "stdout",
          "text": [
            "sine [0.0000000e+00 1.0000000e+00 1.2246468e-16]\n",
            "cosine [ 1.000000e+00  6.123234e-17 -1.000000e+00]\n",
            "sqaure root [1. 2. 3.]\n",
            "exponential [2.71828183 7.3890561 ]\n"
          ]
        }
      ]
    },
    {
      "cell_type": "code",
      "source": [
        "#aggregate Functions\n",
        "arr=np.array([[1,2,3],[4,5,6]])\n",
        "print(\"Array:\\n\",arr)\n",
        "print(\"Sum:\",np.sum(arr))\n",
        "print(\"Min:\",np.min(arr))\n",
        "print(\"Max:\",np.max(arr))\n",
        "print(\"Mean:\",np.mean(arr))\n",
        "print(\"Median:\",np.median(arr))\n",
        "print(\"Standard Deviation:\",np.std(arr))\n",
        "print(\"Sum along axis 0:\",np.sum(arr,axis=0)) #column wise sum\n",
        "print(\"Sum along axis 1:\",np.sum(arr,axis=1)) #row wise sum"
      ],
      "metadata": {
        "colab": {
          "base_uri": "https://localhost:8080/"
        },
        "id": "yrw_QN3JRRYc",
        "outputId": "1af206c9-be4b-44f7-c230-72dfd33f8303"
      },
      "execution_count": 59,
      "outputs": [
        {
          "output_type": "stream",
          "name": "stdout",
          "text": [
            "Array:\n",
            " [[1 2 3]\n",
            " [4 5 6]]\n",
            "Sum: 21\n",
            "Min: 1\n",
            "Max: 6\n",
            "Mean: 3.5\n",
            "Median: 3.5\n",
            "Standard Deviation: 1.707825127659933\n",
            "Sum along axis 0: [5 7 9]\n",
            "Sum along axis 1: [ 6 15]\n"
          ]
        }
      ]
    },
    {
      "cell_type": "code",
      "source": [
        "\n",
        "#Broadcasting\n",
        "# it allows operationson arrays of different shapes\n",
        "a=np.array([1,2,3])\n",
        "b=5\n",
        "print(\"Add scalar to array:\",a+b)\n",
        "c=np.array([[1],[2],[3]])\n",
        "d=np.array([4,5,6])\n",
        "print(\"Broadcasted sum\\n:\",c+d)\n"
      ],
      "metadata": {
        "colab": {
          "base_uri": "https://localhost:8080/"
        },
        "id": "ntGm6LulShAi",
        "outputId": "cbdc6f1a-9db9-4c31-acf7-09a787811511"
      },
      "execution_count": 63,
      "outputs": [
        {
          "output_type": "stream",
          "name": "stdout",
          "text": [
            "Add scalar to array: [6 7 8]\n",
            "Broadcasted sum\n",
            ": [[5 6 7]\n",
            " [6 7 8]\n",
            " [7 8 9]]\n"
          ]
        }
      ]
    },
    {
      "cell_type": "code",
      "source": [
        "#Matrix Operations\n",
        "A=np.array([[1,2],[3,4]])\n",
        "B=np.array([[5,6],[7,8]])\n",
        "print(\"Matrix Multiplication:\\n\",np.dot(A,B))\n",
        "print(\"Matrix Transpose:\\n\",A.T)\n",
        "print(\"Matrix Inverse:\\n\",np.linalg.inv(A))\n",
        "print(\"Matrix Determinant:\\n\",np.linalg.det(A))"
      ],
      "metadata": {
        "colab": {
          "base_uri": "https://localhost:8080/"
        },
        "id": "coEQaQ3TU44N",
        "outputId": "08ef9725-42e8-49ea-8928-ae67625ac033"
      },
      "execution_count": 64,
      "outputs": [
        {
          "output_type": "stream",
          "name": "stdout",
          "text": [
            "Matrix Multiplication:\n",
            " [[19 22]\n",
            " [43 50]]\n",
            "Matrix Transpose:\n",
            " [[1 3]\n",
            " [2 4]]\n",
            "Matrix Inverse:\n",
            " [[-2.   1. ]\n",
            " [ 1.5 -0.5]]\n",
            "Matrix Determinant:\n",
            " -2.0000000000000004\n"
          ]
        }
      ]
    },
    {
      "cell_type": "code",
      "source": [
        "#Sample Program - Student Analsis\n",
        "import numpy as np\n",
        "# Marks of students in 3 subjects\n",
        "marks = np.array([\n",
        "[85, 90, 88],\n",
        "[78, 81, 85],\n",
        "[92, 89, 95]\n",
        "])\n",
        "print(\"Average marks per student:\", np.mean(marks, axis=1))\n",
        "print(\"Average marks per subject:\", np.mean(marks, axis=0))\n",
        "print(\"Highest marks in each subject:\", np.max(marks, axis=0))\n",
        "print(\"Lowest marks in each subject:\", np.min(marks, axis=0))"
      ],
      "metadata": {
        "colab": {
          "base_uri": "https://localhost:8080/"
        },
        "id": "Ola2N1piW1jF",
        "outputId": "3b38eb97-e6c7-43d9-e409-25b4b8305ab7"
      },
      "execution_count": 65,
      "outputs": [
        {
          "output_type": "stream",
          "name": "stdout",
          "text": [
            "Average marks per student: [87.66666667 81.33333333 92.        ]\n",
            "Average marks per subject: [85.         86.66666667 89.33333333]\n",
            "Highest marks in each subject: [92 90 95]\n",
            "Lowest marks in each subject: [78 81 85]\n"
          ]
        }
      ]
    },
    {
      "cell_type": "code",
      "source": [],
      "metadata": {
        "id": "12Xn_KI5bZx5"
      },
      "execution_count": null,
      "outputs": []
    }
  ]
}