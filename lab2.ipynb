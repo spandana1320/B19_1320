{
  "nbformat": 4,
  "nbformat_minor": 0,
  "metadata": {
    "colab": {
      "provenance": [],
      "authorship_tag": "ABX9TyNVds79rCujRuc+MHKGoKjc",
      "include_colab_link": true
    },
    "kernelspec": {
      "name": "python3",
      "display_name": "Python 3"
    },
    "language_info": {
      "name": "python"
    }
  },
  "cells": [
    {
      "cell_type": "markdown",
      "metadata": {
        "id": "view-in-github",
        "colab_type": "text"
      },
      "source": [
        "<a href=\"https://colab.research.google.com/github/spandana1320/B19_1320/blob/main/lab2.ipynb\" target=\"_parent\"><img src=\"https://colab.research.google.com/assets/colab-badge.svg\" alt=\"Open In Colab\"/></a>"
      ]
    },
    {
      "cell_type": "code",
      "execution_count": null,
      "metadata": {
        "colab": {
          "base_uri": "https://localhost:8080/"
        },
        "id": "4B6JKF5vyltB",
        "outputId": "55eb4d31-60de-4359-a77d-776781ef75c3"
      },
      "outputs": [
        {
          "output_type": "stream",
          "name": "stdout",
          "text": [
            "[10, 2, 4, 'cse']\n"
          ]
        }
      ],
      "source": [
        "l=[10,2,4,'cse']\n",
        "print(l)"
      ]
    },
    {
      "cell_type": "code",
      "source": [
        "l=[10,20,30,40]\n",
        "l.append(50)\n",
        "print(l)\n",
        "l.pop()\n",
        "print(l)\n",
        "l.remove(30)\n",
        "\n",
        "print(l)\n",
        "l.reverse()\n",
        "print(l)\n",
        "l.insert(2,100)\n",
        "print(l)\n",
        "l.sort()\n",
        "print(l)\n",
        "print(sum(l))\n",
        "print(l)\n",
        "print(min(l))\n",
        "print(l)\n",
        "print(max(l))\n",
        "print(l)\n"
      ],
      "metadata": {
        "colab": {
          "base_uri": "https://localhost:8080/"
        },
        "id": "DOycE3D11qST",
        "outputId": "59be49b9-895b-4df5-d005-21ced61fb444"
      },
      "execution_count": null,
      "outputs": [
        {
          "output_type": "stream",
          "name": "stdout",
          "text": [
            "[10, 20, 30, 40, 50]\n",
            "[10, 20, 30, 40]\n",
            "[10, 20, 40]\n",
            "[40, 20, 10]\n",
            "[40, 20, 100, 10]\n",
            "[10, 20, 40, 100]\n",
            "170\n",
            "[10, 20, 40, 100]\n",
            "10\n",
            "[10, 20, 40, 100]\n",
            "100\n",
            "[10, 20, 40, 100]\n"
          ]
        }
      ]
    },
    {
      "cell_type": "code",
      "source": [
        "l=[10,2,4,'cse']\n",
        "for i in l:\n",
        "  print(type(i),i)\n",
        "  print(type(l),i)\n",
        "print(l)"
      ],
      "metadata": {
        "colab": {
          "base_uri": "https://localhost:8080/"
        },
        "id": "lhEBqM7P2Cxc",
        "outputId": "5efc44d2-acf2-4231-d084-00f9bcb05a49"
      },
      "execution_count": null,
      "outputs": [
        {
          "output_type": "stream",
          "name": "stdout",
          "text": [
            "<class 'int'> 10\n",
            "<class 'list'> 10\n",
            "<class 'int'> 2\n",
            "<class 'list'> 2\n",
            "<class 'int'> 4\n",
            "<class 'list'> 4\n",
            "<class 'str'> cse\n",
            "<class 'list'> cse\n",
            "[10, 2, 4, 'cse']\n"
          ]
        }
      ]
    },
    {
      "cell_type": "code",
      "source": [
        "l=[10,2,4,'cse']\n",
        "if 2 in l:\n",
        "  print(\"found\")\n",
        "else:\n",
        "    print(\"not found\")\n",
        "print(l)\n"
      ],
      "metadata": {
        "colab": {
          "base_uri": "https://localhost:8080/"
        },
        "id": "gQqrP86I4VMs",
        "outputId": "93bfeb52-74e2-4ff3-cd33-b4c63cd1ccd1"
      },
      "execution_count": null,
      "outputs": [
        {
          "output_type": "stream",
          "name": "stdout",
          "text": [
            "found\n",
            "[10, 2, 4, 'cse']\n"
          ]
        }
      ]
    },
    {
      "cell_type": "code",
      "source": [
        "s=[[10,20],[20,30],[40,20],[10,20]]\n",
        "print(s)\n"
      ],
      "metadata": {
        "colab": {
          "base_uri": "https://localhost:8080/"
        },
        "id": "PRmm326Q5SD8",
        "outputId": "4fef77f1-0e81-4ff7-e143-2dd7709d95a2"
      },
      "execution_count": null,
      "outputs": [
        {
          "output_type": "stream",
          "name": "stdout",
          "text": [
            "[[10, 20], [20, 30], [40, 20], [10, 20]]\n"
          ]
        }
      ]
    },
    {
      "cell_type": "code",
      "source": [
        "l=[x**2 for x in range(6)]\n",
        "print(l)"
      ],
      "metadata": {
        "colab": {
          "base_uri": "https://localhost:8080/"
        },
        "id": "WHubRX3D64ao",
        "outputId": "2753aff0-5a1c-4ea4-8f1f-09f0228d2806"
      },
      "execution_count": null,
      "outputs": [
        {
          "output_type": "stream",
          "name": "stdout",
          "text": [
            "[0, 1, 4, 9, 16, 25]\n"
          ]
        }
      ]
    },
    {
      "cell_type": "code",
      "source": [
        "l=[x*2 for x in range(6)]\n",
        "print(l)"
      ],
      "metadata": {
        "colab": {
          "base_uri": "https://localhost:8080/"
        },
        "id": "9XwrWfqe7GB8",
        "outputId": "e76cad85-5f3f-46aa-e8ae-8a6d30863fb3"
      },
      "execution_count": null,
      "outputs": [
        {
          "output_type": "stream",
          "name": "stdout",
          "text": [
            "[0, 2, 4, 6, 8, 10]\n"
          ]
        }
      ]
    },
    {
      "cell_type": "code",
      "source": [
        "t=(10,20,30,40,50)\n",
        "print(t)\n",
        "t=(10,20,30,'cse')\n",
        "for i in t:\n",
        "  print(type(i),i)\n",
        "\n",
        "if 'cse' in t:\n",
        "  print(\"f\")\n",
        "else:\n",
        "  print(\"nf\")\n",
        "\n"
      ],
      "metadata": {
        "colab": {
          "base_uri": "https://localhost:8080/"
        },
        "id": "DqpLeEq77ro4",
        "outputId": "635bcf8a-4ac0-49dd-fde7-75b83704167b"
      },
      "execution_count": null,
      "outputs": [
        {
          "output_type": "stream",
          "name": "stdout",
          "text": [
            "(10, 20, 30, 40, 50)\n",
            "<class 'int'> 10\n",
            "<class 'int'> 20\n",
            "<class 'int'> 30\n",
            "<class 'str'> cse\n",
            "f\n"
          ]
        }
      ]
    },
    {
      "cell_type": "code",
      "source": [
        "t=(10,20,30,40,50,20,50,30)\n",
        "print(t.count(20))\n",
        "print(t.index(20))"
      ],
      "metadata": {
        "colab": {
          "base_uri": "https://localhost:8080/"
        },
        "id": "3Vb4BpUa-ljP",
        "outputId": "2551b583-ad3a-40a6-c52d-80ead19522b3"
      },
      "execution_count": null,
      "outputs": [
        {
          "output_type": "stream",
          "name": "stdout",
          "text": [
            "2\n",
            "1\n"
          ]
        }
      ]
    },
    {
      "cell_type": "code",
      "source": [
        "l=[10,20,30,40]\n",
        "my_tuple=tuple(l)\n",
        "print(my_tuple)\n",
        "\n",
        "s=((10,20),(100,50))\n",
        "print(s)"
      ],
      "metadata": {
        "colab": {
          "base_uri": "https://localhost:8080/"
        },
        "id": "W0DE_xZV8N58",
        "outputId": "02a74470-61e1-47a4-a9c6-277acfcb606d"
      },
      "execution_count": null,
      "outputs": [
        {
          "output_type": "stream",
          "name": "stdout",
          "text": [
            "(10, 20, 30, 40)\n",
            "((10, 20), (100, 50))\n"
          ]
        }
      ]
    },
    {
      "cell_type": "code",
      "source": [
        "s={'name':'python','id':101,'branch':'cse'}\n",
        "print(s.keys())\n",
        "print(s.values())\n",
        "print(s.items())\n",
        "\n",
        "for key,value in s.items():\n",
        "  print(key,\":\",value)\n",
        "\n",
        "s[\"college\"]='sru'\n",
        "print(s)\n",
        "\n",
        "s['branch']='AIML'\n",
        "del s['id']\n",
        "print(s)\n",
        "\n",
        "s={\"101\":{'name':'python','id':20,'branch':'cse'},\"102\":{'name':'java','id':30,'branch':'AIML'}}\n",
        "print(s[\"102\"][\"name\"])"
      ],
      "metadata": {
        "colab": {
          "base_uri": "https://localhost:8080/"
        },
        "id": "FsVAcBUFAZ3Y",
        "outputId": "87e1dfe3-5176-4bec-b92f-ff718718b2e1"
      },
      "execution_count": null,
      "outputs": [
        {
          "output_type": "stream",
          "name": "stdout",
          "text": [
            "dict_keys(['name', 'id', 'branch'])\n",
            "dict_values(['python', 101, 'cse'])\n",
            "dict_items([('name', 'python'), ('id', 101), ('branch', 'cse')])\n",
            "name : python\n",
            "id : 101\n",
            "branch : cse\n",
            "{'name': 'python', 'id': 101, 'branch': 'cse', 'college': 'sru'}\n",
            "{'name': 'python', 'branch': 'AIML', 'college': 'sru'}\n",
            "java\n"
          ]
        }
      ]
    },
    {
      "cell_type": "code",
      "source": [
        "print(\"10\\t20\\n30\\t40\")"
      ],
      "metadata": {
        "colab": {
          "base_uri": "https://localhost:8080/"
        },
        "id": "Ry9YNbvBC2kt",
        "outputId": "b60eb720-e9c9-437a-ca39-b70f51ae9a1f"
      },
      "execution_count": null,
      "outputs": [
        {
          "output_type": "stream",
          "name": "stdout",
          "text": [
            "10\t20\n",
            "30\t40\n"
          ]
        }
      ]
    },
    {
      "cell_type": "code",
      "source": [
        "l=[[10,20],[40,50],[60,70]]\n",
        "for i in l:\n",
        "  print(*i)"
      ],
      "metadata": {
        "colab": {
          "base_uri": "https://localhost:8080/"
        },
        "id": "mrexnQ3vDOQz",
        "outputId": "4a786bf3-312e-4e5d-c60d-01eae575cc80"
      },
      "execution_count": null,
      "outputs": [
        {
          "output_type": "stream",
          "name": "stdout",
          "text": [
            "10 20\n",
            "40 50\n",
            "60 70\n"
          ]
        }
      ]
    },
    {
      "cell_type": "code",
      "source": [
        "l=[[10,20],[40,50],[60,70]]\n",
        "for i in l:\n",
        "  print(i)"
      ],
      "metadata": {
        "colab": {
          "base_uri": "https://localhost:8080/"
        },
        "id": "yu0y1PVYEj3Z",
        "outputId": "d768773e-07c2-4448-91e6-9d1a625ad7d7"
      },
      "execution_count": null,
      "outputs": [
        {
          "output_type": "stream",
          "name": "stdout",
          "text": [
            "[10, 20]\n",
            "[40, 50]\n",
            "[60, 70]\n"
          ]
        }
      ]
    },
    {
      "cell_type": "code",
      "source": [
        "s={1,2,3,4}\n",
        "print(s)\n",
        "s={1,2,3,4,2,3,8,5,3,2,1}\n",
        "print(s)\n",
        "for i in s:\n",
        "  print(i)\n",
        "if 10 in s:\n",
        "  print(\"f\")\n",
        "else:\n",
        "  print(\"nf\")"
      ],
      "metadata": {
        "colab": {
          "base_uri": "https://localhost:8080/"
        },
        "id": "5kpXPZBkGrHR",
        "outputId": "badc9a98-2038-4126-bc94-49232b32bb98"
      },
      "execution_count": null,
      "outputs": [
        {
          "output_type": "stream",
          "name": "stdout",
          "text": [
            "{1, 2, 3, 4}\n",
            "{1, 2, 3, 4, 5, 8}\n",
            "1\n",
            "2\n",
            "3\n",
            "4\n",
            "5\n",
            "8\n",
            "nf\n"
          ]
        }
      ]
    },
    {
      "cell_type": "code",
      "source": [
        "a={1,2,3,4}\n",
        "b={3,4,5,6}\n",
        "print(a.union(b))\n",
        "print(a.intersection(b))\n",
        "print(a.difference(b))\n",
        "print(b.difference(a))"
      ],
      "metadata": {
        "colab": {
          "base_uri": "https://localhost:8080/"
        },
        "id": "f_Et6RvUHo_W",
        "outputId": "96f08fef-357f-4d55-e02b-c09ad9d4caea"
      },
      "execution_count": null,
      "outputs": [
        {
          "output_type": "stream",
          "name": "stdout",
          "text": [
            "{1, 2, 3, 4, 5, 6}\n",
            "{3, 4}\n",
            "{1, 2}\n",
            "{5, 6}\n"
          ]
        }
      ]
    },
    {
      "cell_type": "code",
      "source": [
        "a={1,2,3,4}\n",
        "b={3,4,5,6}\n",
        "print(a.symmetric_difference(b))"
      ],
      "metadata": {
        "colab": {
          "base_uri": "https://localhost:8080/"
        },
        "id": "ti7kpHLCHzAt",
        "outputId": "e0969b59-427e-4680-9b91-923c5abaaccd"
      },
      "execution_count": null,
      "outputs": [
        {
          "output_type": "stream",
          "name": "stdout",
          "text": [
            "{1, 2, 5, 6}\n"
          ]
        }
      ]
    },
    {
      "cell_type": "code",
      "source": [
        "a={1,2,3,4}\n",
        "b={3,4,5,6}\n",
        "print(a.union(b))\n",
        "print(a.intersection(b))\n",
        "print(a.difference(b))\n",
        "print(b.difference(a))\n",
        "print(\"union\",a|b)\n",
        "print(\"intersection\",a&b)\n",
        "print(\"difference\",a-b)\n",
        "print(\"difference\",b-a)\n",
        "print(a.symmetric_difference(b))\n",
        "print(a^b)"
      ],
      "metadata": {
        "colab": {
          "base_uri": "https://localhost:8080/"
        },
        "id": "gqLG1lzCIJ0L",
        "outputId": "0ad7575e-4018-4f1f-cf2f-b88bb4b50bb0"
      },
      "execution_count": null,
      "outputs": [
        {
          "output_type": "stream",
          "name": "stdout",
          "text": [
            "{1, 2, 3, 4, 5, 6}\n",
            "{3, 4}\n",
            "{1, 2}\n",
            "{5, 6}\n",
            "union {1, 2, 3, 4, 5, 6}\n",
            "intersection {3, 4}\n",
            "difference {1, 2}\n",
            "difference {5, 6}\n",
            "{1, 2, 5, 6}\n",
            "{1, 2, 5, 6}\n"
          ]
        }
      ]
    },
    {
      "cell_type": "code",
      "source": [
        "s={1,2,3}\n",
        "s.add(4)\n",
        "print(s)\n",
        "s.remove(4)\n",
        "print(s)\n",
        "s.clear()\n",
        "print(s)"
      ],
      "metadata": {
        "colab": {
          "base_uri": "https://localhost:8080/"
        },
        "id": "5m3-ARu4JGXk",
        "outputId": "9865015d-81ec-4c16-f4f7-311392986f93"
      },
      "execution_count": null,
      "outputs": [
        {
          "output_type": "stream",
          "name": "stdout",
          "text": [
            "{1, 2, 3, 4}\n",
            "{1, 2, 3}\n",
            "set()\n"
          ]
        }
      ]
    },
    {
      "cell_type": "code",
      "source": [
        "import numpy as np\n",
        "students=np.array([[80,75,21],[90,55,22],[75,45,75],[50,90,55],[25,89,56]])\n",
        "print(students)\n",
        "print(np.mean(students))\n",
        "print(np.max(students))\n",
        "print(np.min(students))\n",
        "print(\"marks of student 3:\",students[2])\n",
        "print(\"marks of student 2 to 4\",students[1:4])\n",
        "\n",
        "\n",
        "\n"
      ],
      "metadata": {
        "colab": {
          "base_uri": "https://localhost:8080/"
        },
        "id": "9BSxQl79SGnt",
        "outputId": "85efdaae-8d4f-4f6d-c64d-fb2a32c27cc4"
      },
      "execution_count": null,
      "outputs": [
        {
          "output_type": "stream",
          "name": "stdout",
          "text": [
            "[[80 75 21]\n",
            " [90 55 22]\n",
            " [75 45 75]\n",
            " [50 90 55]\n",
            " [25 89 56]]\n",
            "60.2\n",
            "90\n",
            "21\n",
            "marks of student 3: [75 45 75]\n",
            "marks of student 2 to 4 [[90 55 22]\n",
            " [75 45 75]\n",
            " [50 90 55]]\n"
          ]
        }
      ]
    },
    {
      "cell_type": "code",
      "source": [
        "import numpy as np\n",
        "marks = np.array([[85, 78, 92], [70, 65, 80],  [90, 88, 94],  [60, 75, 70],  [95, 85, 99] ])\n",
        "avg_marks = np.mean(marks)\n",
        "min_marks = np.min(marks)\n",
        "max_marks = np.max(marks)\n",
        "print(avg_marks)\n",
        "print(min_marks)\n",
        "print(max_marks)\n",
        "\n",
        "print(\"Marks of Student 3:\", marks[2])\n",
        "print(\"Marks of Students 2 to 4: \", marks[1:4])\n",
        "\n",
        "excellent= marks >80\n",
        "print(excellent)\n",
        "\n",
        "each_subject = marks.T\n",
        "print(\"EACH SUBJECT MARKS\", each_subject)"
      ],
      "metadata": {
        "colab": {
          "base_uri": "https://localhost:8080/"
        },
        "id": "RrUDn88SSSjk",
        "outputId": "fde17de9-568f-4f01-8514-93885a2fe67a"
      },
      "execution_count": null,
      "outputs": [
        {
          "output_type": "stream",
          "name": "stdout",
          "text": [
            "81.73333333333333\n",
            "60\n",
            "99\n",
            "Marks of Student 3: [90 88 94]\n",
            "Marks of Students 2 to 4:  [[70 65 80]\n",
            " [90 88 94]\n",
            " [60 75 70]]\n",
            "[[ True False  True]\n",
            " [False False False]\n",
            " [ True  True  True]\n",
            " [False False False]\n",
            " [ True  True  True]]\n",
            "EACH SUBJECT MARKS [[85 70 90 60 95]\n",
            " [78 65 88 75 85]\n",
            " [92 80 94 70 99]]\n"
          ]
        }
      ]
    }
  ]
}