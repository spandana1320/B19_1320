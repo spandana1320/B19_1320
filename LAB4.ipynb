{
  "nbformat": 4,
  "nbformat_minor": 0,
  "metadata": {
    "colab": {
      "provenance": [],
      "authorship_tag": "ABX9TyPSmJuCPyPmtHgS9GGXhJzq",
      "include_colab_link": true
    },
    "kernelspec": {
      "name": "python3",
      "display_name": "Python 3"
    },
    "language_info": {
      "name": "python"
    }
  },
  "cells": [
    {
      "cell_type": "markdown",
      "metadata": {
        "id": "view-in-github",
        "colab_type": "text"
      },
      "source": [
        "<a href=\"https://colab.research.google.com/github/spandana1320/B19_1320/blob/main/LAB4.ipynb\" target=\"_parent\"><img src=\"https://colab.research.google.com/assets/colab-badge.svg\" alt=\"Open In Colab\"/></a>"
      ]
    },
    {
      "cell_type": "code",
      "execution_count": 1,
      "metadata": {
        "colab": {
          "base_uri": "https://localhost:8080/"
        },
        "id": "PL74p1vz7teL",
        "outputId": "1c9e5d17-1d08-4566-936c-7457216c1609"
      },
      "outputs": [
        {
          "output_type": "stream",
          "name": "stdout",
          "text": [
            "0    1\n",
            "1    2\n",
            "2    3\n",
            "3    4\n",
            "4    5\n",
            "dtype: int64\n"
          ]
        }
      ],
      "source": [
        "import pandas as pd\n",
        "#creating a series from list\n",
        "data = [1,2,3,4,5]\n",
        "series = pd.Series(data)\n",
        "print(series)"
      ]
    },
    {
      "cell_type": "code",
      "source": [
        "#series with custom index\n",
        "import pandas as pd\n",
        "data = [1,2,3,4,5]\n",
        "index = ['a','b','c','d','e']\n",
        "series = pd.Series(data,index=index)\n",
        "print(series)"
      ],
      "metadata": {
        "colab": {
          "base_uri": "https://localhost:8080/"
        },
        "id": "C1gjTh018-N4",
        "outputId": "8f7e67e2-804e-4aef-b46a-4fd5ba98e3d6"
      },
      "execution_count": 4,
      "outputs": [
        {
          "output_type": "stream",
          "name": "stdout",
          "text": [
            "a    1\n",
            "b    2\n",
            "c    3\n",
            "d    4\n",
            "e    5\n",
            "dtype: int64\n"
          ]
        }
      ]
    },
    {
      "cell_type": "code",
      "source": [
        "import pandas as pd\n",
        "a={\"name\":['spandana','sony','sweety','harshit'],\"age\":[20,21,22,23],\"city\":[\"hyd\",\"wgl\",\"delhi\",\"mumbai\"]}\n",
        "df=pd.DataFrame(a)\n",
        "print(df)\n"
      ],
      "metadata": {
        "colab": {
          "base_uri": "https://localhost:8080/"
        },
        "id": "DJ5scQxE8FPC",
        "outputId": "7928604e-2297-458c-b41d-59f624bab2aa"
      },
      "execution_count": 29,
      "outputs": [
        {
          "output_type": "stream",
          "name": "stdout",
          "text": [
            "       name  age    city\n",
            "0  spandana   20     hyd\n",
            "1      sony   21     wgl\n",
            "2    sweety   22   delhi\n",
            "3   harshit   23  mumbai\n"
          ]
        }
      ]
    },
    {
      "cell_type": "code",
      "source": [
        "print(df['name'])"
      ],
      "metadata": {
        "colab": {
          "base_uri": "https://localhost:8080/"
        },
        "id": "zyJ8cn57-suH",
        "outputId": "c60a60f1-9805-406c-9350-c46229490b6e"
      },
      "execution_count": 25,
      "outputs": [
        {
          "output_type": "stream",
          "name": "stdout",
          "text": [
            "0    spandana\n",
            "1        sony\n",
            "2      sweety\n",
            "3     harshit\n",
            "Name: name, dtype: object\n"
          ]
        }
      ]
    },
    {
      "cell_type": "code",
      "source": [
        "print(df[[\"name\",\"age\"]])"
      ],
      "metadata": {
        "colab": {
          "base_uri": "https://localhost:8080/"
        },
        "id": "oitduDnt_CLX",
        "outputId": "499cf719-83cf-42a1-d94d-9fc903fb39ed"
      },
      "execution_count": 26,
      "outputs": [
        {
          "output_type": "stream",
          "name": "stdout",
          "text": [
            "       name  age\n",
            "0  spandana   20\n",
            "1      sony   21\n",
            "2    sweety   22\n",
            "3   harshit   23\n"
          ]
        }
      ]
    },
    {
      "cell_type": "code",
      "source": [
        "print(df.loc[0])"
      ],
      "metadata": {
        "colab": {
          "base_uri": "https://localhost:8080/"
        },
        "id": "DtCLTgLc_GRj",
        "outputId": "56bff63a-7b99-4f85-bc59-0abde029eabe"
      },
      "execution_count": 27,
      "outputs": [
        {
          "output_type": "stream",
          "name": "stdout",
          "text": [
            "name    spandana\n",
            "age           20\n",
            "Name: 0, dtype: object\n"
          ]
        }
      ]
    },
    {
      "cell_type": "code",
      "source": [
        "print(df.loc[[0,1]])"
      ],
      "metadata": {
        "colab": {
          "base_uri": "https://localhost:8080/"
        },
        "id": "SQj8Gid8_QMz",
        "outputId": "71ddcfdb-9ef3-4f6d-91d7-20309fd0d804"
      },
      "execution_count": 11,
      "outputs": [
        {
          "output_type": "stream",
          "name": "stdout",
          "text": [
            "       name  age\n",
            "0  spandana   20\n",
            "1      sony   21\n"
          ]
        }
      ]
    },
    {
      "cell_type": "code",
      "source": [
        "print(df.iloc[0])"
      ],
      "metadata": {
        "colab": {
          "base_uri": "https://localhost:8080/"
        },
        "id": "dgKrWZjQ_Uqu",
        "outputId": "93a122af-b0c0-4a75-d5ce-e5118c52f912"
      },
      "execution_count": 16,
      "outputs": [
        {
          "output_type": "stream",
          "name": "stdout",
          "text": [
            "name      spandana\n",
            "age             20\n",
            "salary        4000\n",
            "Name: 0, dtype: object\n"
          ]
        }
      ]
    },
    {
      "cell_type": "code",
      "source": [
        "df['salary']=[4000,3000,2000,1000]\n",
        "\n",
        "print(df)"
      ],
      "metadata": {
        "colab": {
          "base_uri": "https://localhost:8080/"
        },
        "id": "SmWKsFl2_e8P",
        "outputId": "12a25739-e90f-421e-88e4-fdfd17164424"
      },
      "execution_count": 28,
      "outputs": [
        {
          "output_type": "stream",
          "name": "stdout",
          "text": [
            "       name  age  salary    city\n",
            "0  spandana   20    4000     hyd\n",
            "1      sony   21    3000     wgl\n",
            "2    sweety   22    2000   delhi\n",
            "3   harshit   23    1000  mumbai\n"
          ]
        }
      ]
    },
    {
      "cell_type": "code",
      "source": [
        "df = df.drop('city', axis=1)\n",
        "print(df)"
      ],
      "metadata": {
        "colab": {
          "base_uri": "https://localhost:8080/"
        },
        "id": "m8hpaXNj_12F",
        "outputId": "462533ee-23d9-4bd5-f1e2-d71fd9a3d8b0"
      },
      "execution_count": 30,
      "outputs": [
        {
          "output_type": "stream",
          "name": "stdout",
          "text": [
            "       name  age\n",
            "0  spandana   20\n",
            "1      sony   21\n",
            "2    sweety   22\n",
            "3   harshit   23\n"
          ]
        }
      ]
    },
    {
      "cell_type": "code",
      "source": [
        "print(df[df['age']>20])"
      ],
      "metadata": {
        "colab": {
          "base_uri": "https://localhost:8080/"
        },
        "id": "Uj2-PVb3B2CM",
        "outputId": "3a0499b2-f8a7-4b60-f6e3-197bd514afce"
      },
      "execution_count": 32,
      "outputs": [
        {
          "output_type": "stream",
          "name": "stdout",
          "text": [
            "      name  age\n",
            "1     sony   21\n",
            "2   sweety   22\n",
            "3  harshit   23\n"
          ]
        }
      ]
    },
    {
      "cell_type": "code",
      "source": [
        "print(df[\"age\"].mean())"
      ],
      "metadata": {
        "colab": {
          "base_uri": "https://localhost:8080/"
        },
        "id": "mYm7jYq8CDMq",
        "outputId": "bf64daa1-25ac-40dc-9619-e00f002ad1b5"
      },
      "execution_count": 33,
      "outputs": [
        {
          "output_type": "stream",
          "name": "stdout",
          "text": [
            "21.5\n"
          ]
        }
      ]
    },
    {
      "cell_type": "code",
      "source": [
        "print(df[\"age\"].max())"
      ],
      "metadata": {
        "colab": {
          "base_uri": "https://localhost:8080/"
        },
        "id": "oYS-fX0hCO1-",
        "outputId": "6c308b22-4eb8-4ac2-e8d4-1f4bb6adf848"
      },
      "execution_count": 34,
      "outputs": [
        {
          "output_type": "stream",
          "name": "stdout",
          "text": [
            "23\n"
          ]
        }
      ]
    },
    {
      "cell_type": "code",
      "source": [
        "print(df[\"age\"].min())"
      ],
      "metadata": {
        "colab": {
          "base_uri": "https://localhost:8080/"
        },
        "id": "795l2rqICTuu",
        "outputId": "013640de-35e2-4987-b10b-14e2cdb330a9"
      },
      "execution_count": 35,
      "outputs": [
        {
          "output_type": "stream",
          "name": "stdout",
          "text": [
            "20\n"
          ]
        }
      ]
    },
    {
      "cell_type": "code",
      "source": [
        "student_data={\"student-ID\":[1,2,3,4,5],\"Name\":[\"ravi\",\"neha\",\"kiran\",\"sita\",\"gita\"],\"marks\":[96,98,97,95,99],\"Dep\":[\"CSE\",\"ECE\",\"MECH\",\"CSE\",\"CSE-M\"]}\n",
        "df=pd.DataFrame(student_data)\n",
        "print(df)"
      ],
      "metadata": {
        "colab": {
          "base_uri": "https://localhost:8080/"
        },
        "id": "8_d9dSctCqSl",
        "outputId": "5f16f1e6-e271-4fbb-a65d-c56460447e46"
      },
      "execution_count": 38,
      "outputs": [
        {
          "output_type": "stream",
          "name": "stdout",
          "text": [
            "   student-ID   Name  marks    Dep\n",
            "0           1   ravi     96    CSE\n",
            "1           2   neha     98    ECE\n",
            "2           3  kiran     97   MECH\n",
            "3           4   sita     95    CSE\n",
            "4           5   gita     99  CSE-M\n"
          ]
        }
      ]
    },
    {
      "cell_type": "code",
      "source": [
        "# find students with marks>95\n",
        "print(df[df['marks']>95])\n"
      ],
      "metadata": {
        "colab": {
          "base_uri": "https://localhost:8080/"
        },
        "id": "4u2SjF92ECnG",
        "outputId": "3915f1ad-853c-4f9d-b87c-d1d81998ffbf"
      },
      "execution_count": 40,
      "outputs": [
        {
          "output_type": "stream",
          "name": "stdout",
          "text": [
            "   student-ID   Name  marks    Dep\n",
            "0           1   ravi     96    CSE\n",
            "1           2   neha     98    ECE\n",
            "2           3  kiran     97   MECH\n",
            "4           5   gita     99  CSE-M\n"
          ]
        }
      ]
    },
    {
      "cell_type": "code",
      "source": [
        "#average marks\n",
        "print(df['marks'].mean())"
      ],
      "metadata": {
        "colab": {
          "base_uri": "https://localhost:8080/"
        },
        "id": "60lOsj7LEfTT",
        "outputId": "765a6c30-eb14-4b3b-877e-c56eca3fbc5e"
      },
      "execution_count": 42,
      "outputs": [
        {
          "output_type": "stream",
          "name": "stdout",
          "text": [
            "97.0\n"
          ]
        }
      ]
    },
    {
      "cell_type": "code",
      "source": [
        "#add new column\n",
        "df[\"result\"]=['pass'if x>=50 else 'fail' for x in df[\"marks\"]]\n",
        "print(df)"
      ],
      "metadata": {
        "colab": {
          "base_uri": "https://localhost:8080/"
        },
        "id": "UC8GUhCuEqm9",
        "outputId": "9ad99045-6a3d-4c1e-ebfe-3e0d2ddde7d3"
      },
      "execution_count": 44,
      "outputs": [
        {
          "output_type": "stream",
          "name": "stdout",
          "text": [
            "   student-ID   Name  marks    Dep result\n",
            "0           1   ravi     96    CSE   pass\n",
            "1           2   neha     98    ECE   pass\n",
            "2           3  kiran     97   MECH   pass\n",
            "3           4   sita     95    CSE   pass\n",
            "4           5   gita     99  CSE-M   pass\n"
          ]
        }
      ]
    },
    {
      "cell_type": "code",
      "source": [
        "student_data={\"srollno\":[1,2,3,4,5],\"sName\":[\"ravi\",\"neha\",\"kiran\",\"sita\",\"gita\"],'m1':[96,88,57,55,99],'m2':[90,41,89,76,99],'m3':[99,89,69,79,59]}\n",
        "df=pd.DataFrame(student_data)\n",
        "print(df)\n"
      ],
      "metadata": {
        "colab": {
          "base_uri": "https://localhost:8080/"
        },
        "id": "sJASculoFjiR",
        "outputId": "e9d578d3-e1db-4622-be27-69d12d86e421"
      },
      "execution_count": 57,
      "outputs": [
        {
          "output_type": "stream",
          "name": "stdout",
          "text": [
            "   srollno  sName  m1  m2  m3\n",
            "0        1   ravi  96  90  99\n",
            "1        2   neha  88  41  89\n",
            "2        3  kiran  57  89  69\n",
            "3        4   sita  55  76  79\n",
            "4        5   gita  99  99  59\n"
          ]
        }
      ]
    },
    {
      "cell_type": "code",
      "source": [
        "df[\"total\"]=df['m1']+df['m2']+df['m3']\n",
        "print(df)"
      ],
      "metadata": {
        "colab": {
          "base_uri": "https://localhost:8080/"
        },
        "id": "q8V7vv4fGjob",
        "outputId": "53b2188b-a160-4523-e52d-cf0cd992dd83"
      },
      "execution_count": 58,
      "outputs": [
        {
          "output_type": "stream",
          "name": "stdout",
          "text": [
            "   srollno  sName  m1  m2  m3  total\n",
            "0        1   ravi  96  90  99    285\n",
            "1        2   neha  88  41  89    218\n",
            "2        3  kiran  57  89  69    215\n",
            "3        4   sita  55  76  79    210\n",
            "4        5   gita  99  99  59    257\n"
          ]
        }
      ]
    },
    {
      "cell_type": "code",
      "source": [
        "df[\"result\"]=['pass'if x>=50 else 'fail' for x in df[\"total\"]]\n",
        "print(df)"
      ],
      "metadata": {
        "colab": {
          "base_uri": "https://localhost:8080/"
        },
        "id": "IKD910tWG1r5",
        "outputId": "af8d72b7-ae43-47f9-daa3-7f8a75e93aa9"
      },
      "execution_count": 61,
      "outputs": [
        {
          "output_type": "stream",
          "name": "stdout",
          "text": [
            "   srollno  sName  m1  m2  m3  total result\n",
            "0        1   ravi  96  90  99    285   pass\n",
            "1        2   neha  88  41  89    218   pass\n",
            "2        3  kiran  57  89  69    215   pass\n",
            "3        4   sita  55  76  79    210   pass\n",
            "4        5   gita  99  99  59    257   pass\n"
          ]
        }
      ]
    },
    {
      "cell_type": "code",
      "source": [
        "df[\"average\"]=df['total']/3\n",
        "print(df)"
      ],
      "metadata": {
        "colab": {
          "base_uri": "https://localhost:8080/"
        },
        "id": "E33z1m-bHNHK",
        "outputId": "5444b7a4-6ebe-4589-86c1-303ad68127a6"
      },
      "execution_count": 62,
      "outputs": [
        {
          "output_type": "stream",
          "name": "stdout",
          "text": [
            "   srollno  sName  m1  m2  m3  total result    average\n",
            "0        1   ravi  96  90  99    285   pass  95.000000\n",
            "1        2   neha  88  41  89    218   pass  72.666667\n",
            "2        3  kiran  57  89  69    215   pass  71.666667\n",
            "3        4   sita  55  76  79    210   pass  70.000000\n",
            "4        5   gita  99  99  59    257   pass  85.666667\n"
          ]
        }
      ]
    }
  ]
}