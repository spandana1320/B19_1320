{
  "nbformat": 4,
  "nbformat_minor": 0,
  "metadata": {
    "colab": {
      "provenance": [],
      "authorship_tag": "ABX9TyPf7LDSgvId/emFhEiax7lU",
      "include_colab_link": true
    },
    "kernelspec": {
      "name": "python3",
      "display_name": "Python 3"
    },
    "language_info": {
      "name": "python"
    }
  },
  "cells": [
    {
      "cell_type": "markdown",
      "metadata": {
        "id": "view-in-github",
        "colab_type": "text"
      },
      "source": [
        "<a href=\"https://colab.research.google.com/github/spandana1320/B19_1320/blob/main/files.ipynb\" target=\"_parent\"><img src=\"https://colab.research.google.com/assets/colab-badge.svg\" alt=\"Open In Colab\"/></a>"
      ]
    },
    {
      "cell_type": "code",
      "source": [
        "#write\n",
        "f=open(\"sample.txt\",\"w\")\n",
        "f.write(\"This is a sample text file.\\n\")\n",
        "f.write(\"This is spandana\")\n",
        "f.close()\n"
      ],
      "metadata": {
        "id": "rWScJWnQbD1I"
      },
      "execution_count": 33,
      "outputs": []
    },
    {
      "cell_type": "code",
      "source": [
        "#read\n",
        "f=open(\"sample.txt\",\"r\")\n",
        "information=f.read()\n",
        "print(\"information:\",information)\n",
        "f.close()"
      ],
      "metadata": {
        "colab": {
          "base_uri": "https://localhost:8080/"
        },
        "id": "bAtLruyFcSq0",
        "outputId": "8c5c758d-4777-47a7-cb94-0bb43d0a2699"
      },
      "execution_count": 34,
      "outputs": [
        {
          "output_type": "stream",
          "name": "stdout",
          "text": [
            "information: This is a sample text file.\n",
            "This is spandana\n"
          ]
        }
      ]
    },
    {
      "cell_type": "code",
      "source": [
        "#reading line by line\n",
        "f=open(\"sample.txt\",\"r\")\n",
        "line1=f.readline()\n",
        "print(\"line1\",line1)\n",
        "line2=f.readline()\n",
        "print(\"line2\",line2)\n",
        "f.close()"
      ],
      "metadata": {
        "colab": {
          "base_uri": "https://localhost:8080/"
        },
        "id": "sC-ufDLNeJiV",
        "outputId": "99f63b56-6004-4f9d-dbaa-6179710a6187"
      },
      "execution_count": 22,
      "outputs": [
        {
          "output_type": "stream",
          "name": "stdout",
          "text": [
            "line1 This is a sample text file.\n",
            "\n",
            "line2 This is spandana.\n",
            "\n"
          ]
        }
      ]
    },
    {
      "cell_type": "code",
      "source": [
        "#reading all lines\n",
        "f=open(\"sample.txt\",\"r\")\n",
        "allines=f.readlines()\n",
        "print(\"allines\",allines)\n",
        "f.close()"
      ],
      "metadata": {
        "colab": {
          "base_uri": "https://localhost:8080/"
        },
        "id": "aggCmMyDexpv",
        "outputId": "a0062f5c-6711-49a1-da44-9cb55ceb5e55"
      },
      "execution_count": 30,
      "outputs": [
        {
          "output_type": "stream",
          "name": "stdout",
          "text": [
            "allines ['This is a sample text file.\\n', 'This is spandana']\n"
          ]
        }
      ]
    },
    {
      "cell_type": "code",
      "source": [
        "with open(\"sample.txt\",\"r\") as f:\n",
        "  f=f.read()\n",
        "  print(f)\n"
      ],
      "metadata": {
        "colab": {
          "base_uri": "https://localhost:8080/"
        },
        "id": "q7EDh9ZNgYT-",
        "outputId": "a5f9d2a0-d48c-4052-9a96-f51f90331e9c"
      },
      "execution_count": 31,
      "outputs": [
        {
          "output_type": "stream",
          "name": "stdout",
          "text": [
            "This is a sample text file.\n",
            "This is spandana\n"
          ]
        }
      ]
    },
    {
      "cell_type": "code",
      "source": [
        "#working with csv files\n",
        "import csv\n",
        "with open(\"student.csv\",\"w\",newline=\"\") as f:\n",
        "  writer=csv.writer(f)\n",
        "  writer.writerow([\"name\",\"marks\"])\n",
        "  writer.writerow([\"spandy\",99])\n",
        "  writer.writerow([\"pandu\",75])"
      ],
      "metadata": {
        "id": "AWIdTzWqh2qj"
      },
      "execution_count": 14,
      "outputs": []
    },
    {
      "cell_type": "code",
      "source": [
        "#reading csv\n",
        "with open(\"student.csv\",\"r\")as f:\n",
        "  reader=csv.reader(f)\n",
        "  for row in reader:\n",
        "    print(row)"
      ],
      "metadata": {
        "colab": {
          "base_uri": "https://localhost:8080/"
        },
        "id": "WUvcC-_4jyjq",
        "outputId": "6ef4a4a7-07ca-4e7c-c750-a887cf8d80cb"
      },
      "execution_count": 15,
      "outputs": [
        {
          "output_type": "stream",
          "name": "stdout",
          "text": [
            "['name', 'marks']\n",
            "['spandy', '99']\n",
            "['pandu', '75']\n"
          ]
        }
      ]
    },
    {
      "cell_type": "code",
      "source": [
        "#appending\n",
        "with open(\"sample.txt\",\"a\") as f:\n",
        "  f.write(\"good morning.\\n\")"
      ],
      "metadata": {
        "id": "gIQsyXvtkTPf"
      },
      "execution_count": 16,
      "outputs": []
    },
    {
      "cell_type": "code",
      "source": [
        "f=open(\"sample.txt\",\"r\")\n",
        "information=f.read()\n",
        "print(\"information\",information)\n",
        "f.close()"
      ],
      "metadata": {
        "colab": {
          "base_uri": "https://localhost:8080/"
        },
        "id": "AfA41P92kyv5",
        "outputId": "06477957-17f2-4d14-8bb9-7eab7519e222"
      },
      "execution_count": 32,
      "outputs": [
        {
          "output_type": "stream",
          "name": "stdout",
          "text": [
            "information This is a sample text file.\n",
            "This is spandana\n"
          ]
        }
      ]
    },
    {
      "cell_type": "code",
      "source": [
        "with open(\"sample.txt\",\"a\") as f:\n",
        "  f.write(\"good morning.\\n\")"
      ],
      "metadata": {
        "id": "TrKyVvs-lunt"
      },
      "execution_count": 35,
      "outputs": []
    },
    {
      "cell_type": "code",
      "source": [
        "f=open(\"sample.txt\",\"r\")\n",
        "information=f.read()\n",
        "print(\"information\",information)\n",
        "f.close()"
      ],
      "metadata": {
        "colab": {
          "base_uri": "https://localhost:8080/"
        },
        "id": "7yarSZdllxAU",
        "outputId": "07ec51e9-5fdf-4dee-8dc5-0c28076d5b6e"
      },
      "execution_count": 36,
      "outputs": [
        {
          "output_type": "stream",
          "name": "stdout",
          "text": [
            "information This is a sample text file.\n",
            "This is spandanagood morning.\n",
            "\n"
          ]
        }
      ]
    },
    {
      "cell_type": "code",
      "source": [
        "name=input(\"enter names:\")\n",
        "marks_str = input(\"enter marks:\") # Get marks as a string\n",
        "marks = int(marks_str) # Convert the input string to an integer\n",
        "with open(\"students.txt\",\"a\") as f:\n",
        "  f.write(name + \",\" + str(marks) + \"\\n\") # Convert marks back to string for writing\n",
        "with open(\"students.txt\",\"r\") as f: # Correct the filename\n",
        "  student_records=f.read()\n",
        "  print(student_records)"
      ],
      "metadata": {
        "colab": {
          "base_uri": "https://localhost:8080/"
        },
        "id": "PwF1J4Mvl5DF",
        "outputId": "c8445c3b-6719-46cc-ba7e-a7d0d632ca48"
      },
      "execution_count": 40,
      "outputs": [
        {
          "output_type": "stream",
          "name": "stdout",
          "text": [
            "enter names:spandy\n",
            "enter marks:22\n",
            "spandy,22\n",
            "\n"
          ]
        }
      ]
    }
  ]
}