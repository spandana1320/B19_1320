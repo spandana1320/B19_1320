{
  "nbformat": 4,
  "nbformat_minor": 0,
  "metadata": {
    "colab": {
      "provenance": [],
      "authorship_tag": "ABX9TyNH32LTT5UlDDcOzBGHuvky",
      "include_colab_link": true
    },
    "kernelspec": {
      "name": "python3",
      "display_name": "Python 3"
    },
    "language_info": {
      "name": "python"
    }
  },
  "cells": [
    {
      "cell_type": "markdown",
      "metadata": {
        "id": "view-in-github",
        "colab_type": "text"
      },
      "source": [
        "<a href=\"https://colab.research.google.com/github/spandana1320/B19_1320/blob/main/ASSIGNMENT6.ipynb\" target=\"_parent\"><img src=\"https://colab.research.google.com/assets/colab-badge.svg\" alt=\"Open In Colab\"/></a>"
      ]
    },
    {
      "cell_type": "code",
      "execution_count": 4,
      "metadata": {
        "colab": {
          "base_uri": "https://localhost:8080/"
        },
        "id": "7RzbYIZvhgO6",
        "outputId": "25a05244-7ab0-4df7-f60c-c56eac6a2047"
      },
      "outputs": [
        {
          "output_type": "stream",
          "name": "stdout",
          "text": [
            "original data\n",
            "    patient_id  Age\n",
            "0            1   -5\n",
            "1            2  234\n",
            "2            3   43\n",
            "3            4   54\n",
            "4            5   21\n",
            "5            6   33\n",
            "6            7   19\n",
            "7            8  190\n",
            "8            9   23\n",
            "9           10   -8\n",
            "10          11   55\n",
            "11          12  -89\n",
            "12          13   88\n",
            "13          14   56\n",
            "14          15   77\n",
            "15          16    5\n",
            "16          17    8\n",
            "17          18  -99\n",
            "18          19  888\n",
            "19          20  200\n",
            "invalid ages\n",
            "    patient_id  Age\n",
            "0            1   -5\n",
            "1            2  234\n",
            "7            8  190\n",
            "9           10   -8\n",
            "11          12  -89\n",
            "17          18  -99\n",
            "18          19  888\n",
            "19          20  200\n",
            "cleaned data\n",
            "    patient_id  Age\n",
            "2            3   43\n",
            "3            4   54\n",
            "4            5   21\n",
            "5            6   33\n",
            "6            7   19\n",
            "8            9   23\n",
            "10          11   55\n",
            "12          13   88\n",
            "13          14   56\n",
            "14          15   77\n",
            "15          16    5\n",
            "16          17    8\n"
          ]
        }
      ],
      "source": [
        "import pandas as pd\n",
        "data={'patient_id':[1,2,3,4,5,6,7,8,9,10,11,12,13,14,15,16,17,18,19,20],'Age':[-5,234,43,54,21,33,19,190,23,-8,55,-89,88,56,77,5,8,-99,888,200]}\n",
        "df=pd.DataFrame(data)\n",
        "print(\"original data\")\n",
        "print(df)\n",
        "invalid_ages=df[(df['Age'] < 0 )| (df['Age'] > 120)]\n",
        "print(\"invalid ages\")\n",
        "print(invalid_ages)\n",
        "\n",
        "invalid_ages=df[(df['Age']>=0) & (df['Age']<=120)]\n",
        "print(\"cleaned data\")\n",
        "print(invalid_ages)"
      ]
    },
    {
      "cell_type": "code",
      "source": [],
      "metadata": {
        "id": "siRCESQsiUgh"
      },
      "execution_count": null,
      "outputs": []
    }
  ]
}